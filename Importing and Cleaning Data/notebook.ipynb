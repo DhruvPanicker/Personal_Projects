{
 "cells": [
  {
   "cell_type": "markdown",
   "metadata": {
    "dc": {
     "key": "4"
    },
    "deletable": false,
    "editable": false,
    "run_control": {
     "frozen": true
    },
    "tags": [
     "context"
    ]
   },
   "source": [
    "## 1. Importing data part 1\n",
    "<p>What an exciting <a href=\"https://www.fifa.com/womensworldcup/\">FIFA Women's World Cup</a>! Congratulations to the <a href=\"https://www.ussoccer.com/teams/uswnt\">US Women's National Team</a> and to all the <a href=\"https://www.fifa.com/womensworldcup/teams/\">national teams</a> who made the tournament such a great event!</p>\n",
    "<p><img src=\"https://assets.datacamp.com/production/project_758/img/football_soccer.jpg\" alt=\"football\">\n",
    "<em>Source: <a href=\"https://commons.wikimedia.org/wiki/File:Football_pictogram.svg\">Wikimedia Commons</a></em></p>\n",
    "<p>Now that the tournament is over, our boss at <em>Crunching Numbers</em> needs to know which match/stadium had the highest attendance during the women's world cup. Thankfully, one of our trusty interns, Bob, already has the data for us. After chatting with Bob about his football (soccer in the US) obsession, we learned that he collected the data by either watching the games or reading the <a href=\"https://www.fifa.com/womensworldcup/matches/?#groupphase\">FIFA Women's World Cup match reports</a>. He manually entered the data into a flat file (.csv) and emailed it to us.</p>\n",
    "<p>Let's read in the file and explore the raw data!</p>"
   ]
  },
  {
   "cell_type": "code",
   "execution_count": 2,
   "metadata": {
    "dc": {
     "key": "4"
    },
    "tags": [
     "sample_code"
    ]
   },
   "outputs": [
    {
     "ename": "SyntaxError",
     "evalue": "invalid syntax (<ipython-input-2-f0ccb6bd2df3>, line 12)",
     "output_type": "error",
     "traceback": [
      "\u001b[1;36m  File \u001b[1;32m\"<ipython-input-2-f0ccb6bd2df3>\"\u001b[1;36m, line \u001b[1;32m12\u001b[0m\n\u001b[1;33m    class(wwc_raw)\u001b[0m\n\u001b[1;37m         ^\u001b[0m\n\u001b[1;31mSyntaxError\u001b[0m\u001b[1;31m:\u001b[0m invalid syntax\n"
     ]
    }
   ],
   "source": [
    "# In this project code scaffolding will only be given for functions that were not \n",
    "# explained in the prerequisite courses. Look at the hints if you need help.\n",
    "\n",
    "# Load the packages\n",
    "library(readr)\n",
    "library (dplyr)\n",
    "\n",
    "# Read in the data from the datasets folder\n",
    "wwc_raw <- read_csv(\"datasets/2019_WWCFIFA_summary.csv\")\n",
    "\n",
    "# Check the dimensions and structure of the data\n",
    "class(wwc_raw)\n",
    "glimpse(wwc_raw)\n",
    "summary(wwc_raw)\n",
    "str(wwc_raw)"
   ]
  },
  {
   "cell_type": "markdown",
   "metadata": {
    "dc": {
     "key": "12"
    },
    "deletable": false,
    "editable": false,
    "run_control": {
     "frozen": true
    },
    "tags": [
     "context"
    ]
   },
   "source": [
    "## 2. Importing data part 2\n",
    "<p>Looking at the outputs, we notice a few things about the data. First, we have some <code>NA</code>s to address. Second, most of the columns are of type <code>character</code>. One of the differences between <code>read_csv()</code> (<code>readr</code>) and <code>read.csv()</code> (<code>utils</code>) is how character strings are treated. With <code>read.csv()</code> strings are coerced to factors, while in <code>read_csv()</code> strings are not coerced. Let's import the data again, but this time, we will assign data types to the <code>Round</code>, <code>Date</code>, and <code>Venue</code> columns. </p>\n",
    "<p><br></p>\n",
    "<p><strong>Instructor's note</strong>: My apologies for several incorrect spellings. Stade Oceane should be <em>Stade Océane</em>. The correct spellings of the names of the referees are <em>Stéphanie Frappart</em>, <em>Katalin Kulcsár</em>, and <em>Claudia Umpiérrez</em>. Accents are not currently supported in Jupyter Notebook outputs on DataCamp and had to be removed from the data file. </p>"
   ]
  },
  {
   "cell_type": "code",
   "execution_count": 1,
   "metadata": {
    "dc": {
     "key": "12"
    },
    "tags": [
     "sample_code"
    ]
   },
   "outputs": [
    {
     "ename": "NameError",
     "evalue": "name 'wwc_raw' is not defined",
     "output_type": "error",
     "traceback": [
      "\u001b[1;31m---------------------------------------------------------------------------\u001b[0m",
      "\u001b[1;31mNameError\u001b[0m                                 Traceback (most recent call last)",
      "\u001b[1;32m<ipython-input-1-debbe05e053a>\u001b[0m in \u001b[0;36m<module>\u001b[1;34m\u001b[0m\n\u001b[0;32m      1\u001b[0m \u001b[1;31m# Read in the data specifying column types\u001b[0m\u001b[1;33m\u001b[0m\u001b[1;33m\u001b[0m\u001b[1;33m\u001b[0m\u001b[0m\n\u001b[1;32m----> 2\u001b[1;33m wwc_raw <- read_csv(\"datasets/2019_WWCFIFA_summary.csv\",\n\u001b[0m\u001b[0;32m      3\u001b[0m                 col_types = cols(\n\u001b[0;32m      4\u001b[0m                                 \u001b[0mRound\u001b[0m \u001b[1;33m=\u001b[0m \u001b[0mcol_factor\u001b[0m\u001b[1;33m(\u001b[0m\u001b[1;33m)\u001b[0m\u001b[1;33m,\u001b[0m\u001b[1;33m\u001b[0m\u001b[1;33m\u001b[0m\u001b[0m\n\u001b[0;32m      5\u001b[0m                                 \u001b[0mDate\u001b[0m \u001b[1;33m=\u001b[0m \u001b[0mcol_date\u001b[0m\u001b[1;33m(\u001b[0m\u001b[0mformat\u001b[0m \u001b[1;33m=\u001b[0m \u001b[1;34m\"%m/%d/%y\"\u001b[0m\u001b[1;33m)\u001b[0m\u001b[1;33m,\u001b[0m\u001b[1;33m\u001b[0m\u001b[1;33m\u001b[0m\u001b[0m\n",
      "\u001b[1;31mNameError\u001b[0m: name 'wwc_raw' is not defined"
     ]
    }
   ],
   "source": [
    "# Read in the data specifying column types\n",
    "wwc_raw <- read_csv(\"datasets/2019_WWCFIFA_summary.csv\",\n",
    "                col_types = cols(\n",
    "                                Round = col_factor(),\n",
    "                                Date = col_date(format = \"%m/%d/%y\"),\n",
    "                                Venue = col_factor() \n",
    "                                  )\n",
    "                 )\n",
    "\n",
    "# Look at the summary and structure of the data\n",
    "glimpse(wwc_raw)\n",
    "summary(wwc_raw)\n",
    "\n",
    "# Print the dataset\n",
    "print(wwc_raw)"
   ]
  },
  {
   "cell_type": "markdown",
   "metadata": {
    "dc": {
     "key": "19"
    },
    "deletable": false,
    "editable": false,
    "run_control": {
     "frozen": true
    },
    "tags": [
     "context"
    ]
   },
   "source": [
    "## 3. Removing rows of NA\n",
    "<p>We have 55 observations (rows) of 13 variables (columns). Hmmm, we know there were 52 games - why the extra rows? Also <code>Round</code> and <code>Attendance</code> each have three <code>NA</code>, and <code>Date</code> and <code>Venue</code> each have four <code>NA</code>. It looks like we have a few things to fix.</p>\n",
    "<ul>\n",
    "<li>Rows of NA</li>\n",
    "<li>Missing data values</li>\n",
    "<li>Multiple values in one column (look at <code>Score</code> and <code>PKS</code>)</li>\n",
    "<li>Column headers are a mix of upper- and lowercase letters</li>\n",
    "</ul>\n",
    "<p>The last issue is more of a preference. Having all the column names in the same case will make typing easier.</p>\n",
    "<p>Great hustle on Bob's part for collecting the information we need, but he gets a yellow card for inserting the rows of <code>NA</code>.  Let's start cleaning the data by putting the column names in lowercase and removing the rows of <code>NA</code>.</p>"
   ]
  },
  {
   "cell_type": "code",
   "execution_count": 86,
   "metadata": {
    "dc": {
     "key": "19"
    },
    "tags": [
     "sample_code"
    ]
   },
   "outputs": [
    {
     "data": {
      "text/html": [
       "<table>\n",
       "<caption>A tibble: 6 x 13</caption>\n",
       "<thead>\n",
       "\t<tr><th scope=col>round</th><th scope=col>wk</th><th scope=col>day</th><th scope=col>date</th><th scope=col>time</th><th scope=col>home</th><th scope=col>score</th><th scope=col>pks</th><th scope=col>away</th><th scope=col>attendance</th><th scope=col>venue</th><th scope=col>referee</th><th scope=col>notes</th></tr>\n",
       "\t<tr><th scope=col>&lt;fct&gt;</th><th scope=col>&lt;chr&gt;</th><th scope=col>&lt;chr&gt;</th><th scope=col>&lt;date&gt;</th><th scope=col>&lt;time&gt;</th><th scope=col>&lt;chr&gt;</th><th scope=col>&lt;chr&gt;</th><th scope=col>&lt;chr&gt;</th><th scope=col>&lt;chr&gt;</th><th scope=col>&lt;dbl&gt;</th><th scope=col>&lt;fct&gt;</th><th scope=col>&lt;chr&gt;</th><th scope=col>&lt;chr&gt;</th></tr>\n",
       "</thead>\n",
       "<tbody>\n",
       "\t<tr><td>Group stage</td><td>1</td><td>Fri</td><td>2019-06-07</td><td>21:00:00</td><td>France   </td><td>4 - 0</td><td>NA</td><td>Korea Rep   </td><td>45261</td><td>Parc des Princes        </td><td>Claudia Umpierrez    </td><td>NA</td></tr>\n",
       "\t<tr><td>Group stage</td><td>1</td><td>Sat</td><td>2019-06-08</td><td>15:00:00</td><td>Germany  </td><td>1 - 0</td><td>NA</td><td>China PR    </td><td>15283</td><td>Roazhon Park            </td><td>Marie-Soleil Beaudoin</td><td>NA</td></tr>\n",
       "\t<tr><td>Group stage</td><td>1</td><td>Sat</td><td>2019-06-08</td><td>18:00:00</td><td>Spain    </td><td>3 - 1</td><td>NA</td><td>South Africa</td><td>12044</td><td>Stade Oceane            </td><td>Maria Carvajal       </td><td>NA</td></tr>\n",
       "\t<tr><td>Group stage</td><td>1</td><td>Sat</td><td>2019-06-08</td><td>21:00:00</td><td>Norway   </td><td>3 - 0</td><td>NA</td><td>Nigeria     </td><td>11058</td><td>Stade Auguste-Delaune II</td><td>Kate Jacewicz        </td><td>NA</td></tr>\n",
       "\t<tr><td>Group stage</td><td>1</td><td>Sun</td><td>2019-06-09</td><td>13:00:00</td><td>Australia</td><td>1 - 2</td><td>NA</td><td>Italy       </td><td>15380</td><td>Stade du Hainaut        </td><td>Melissa Borjas       </td><td>NA</td></tr>\n",
       "\t<tr><td>Group stage</td><td>1</td><td>Sun</td><td>NA</td><td>15:30:00</td><td>Brazil   </td><td>3 - 0</td><td>NA</td><td>Jamaica     </td><td>17668</td><td>Stade des Alpes         </td><td>Riem Hussein         </td><td>NA</td></tr>\n",
       "</tbody>\n",
       "</table>\n"
      ],
      "text/latex": [
       "A tibble: 6 x 13\n",
       "\\begin{tabular}{r|lllllllllllll}\n",
       " round & wk & day & date & time & home & score & pks & away & attendance & venue & referee & notes\\\\\n",
       " <fct> & <chr> & <chr> & <date> & <time> & <chr> & <chr> & <chr> & <chr> & <dbl> & <fct> & <chr> & <chr>\\\\\n",
       "\\hline\n",
       "\t Group stage & 1 & Fri & 2019-06-07 & 21:00:00 & France    & 4 - 0 & NA & Korea Rep    & 45261 & Parc des Princes         & Claudia Umpierrez     & NA\\\\\n",
       "\t Group stage & 1 & Sat & 2019-06-08 & 15:00:00 & Germany   & 1 - 0 & NA & China PR     & 15283 & Roazhon Park             & Marie-Soleil Beaudoin & NA\\\\\n",
       "\t Group stage & 1 & Sat & 2019-06-08 & 18:00:00 & Spain     & 3 - 1 & NA & South Africa & 12044 & Stade Oceane             & Maria Carvajal        & NA\\\\\n",
       "\t Group stage & 1 & Sat & 2019-06-08 & 21:00:00 & Norway    & 3 - 0 & NA & Nigeria      & 11058 & Stade Auguste-Delaune II & Kate Jacewicz         & NA\\\\\n",
       "\t Group stage & 1 & Sun & 2019-06-09 & 13:00:00 & Australia & 1 - 2 & NA & Italy        & 15380 & Stade du Hainaut         & Melissa Borjas        & NA\\\\\n",
       "\t Group stage & 1 & Sun & NA & 15:30:00 & Brazil    & 3 - 0 & NA & Jamaica      & 17668 & Stade des Alpes          & Riem Hussein          & NA\\\\\n",
       "\\end{tabular}\n"
      ],
      "text/markdown": [
       "\n",
       "A tibble: 6 x 13\n",
       "\n",
       "| round &lt;fct&gt; | wk &lt;chr&gt; | day &lt;chr&gt; | date &lt;date&gt; | time &lt;time&gt; | home &lt;chr&gt; | score &lt;chr&gt; | pks &lt;chr&gt; | away &lt;chr&gt; | attendance &lt;dbl&gt; | venue &lt;fct&gt; | referee &lt;chr&gt; | notes &lt;chr&gt; |\n",
       "|---|---|---|---|---|---|---|---|---|---|---|---|---|\n",
       "| Group stage | 1 | Fri | 2019-06-07 | 21:00:00 | France    | 4 - 0 | NA | Korea Rep    | 45261 | Parc des Princes         | Claudia Umpierrez     | NA |\n",
       "| Group stage | 1 | Sat | 2019-06-08 | 15:00:00 | Germany   | 1 - 0 | NA | China PR     | 15283 | Roazhon Park             | Marie-Soleil Beaudoin | NA |\n",
       "| Group stage | 1 | Sat | 2019-06-08 | 18:00:00 | Spain     | 3 - 1 | NA | South Africa | 12044 | Stade Oceane             | Maria Carvajal        | NA |\n",
       "| Group stage | 1 | Sat | 2019-06-08 | 21:00:00 | Norway    | 3 - 0 | NA | Nigeria      | 11058 | Stade Auguste-Delaune II | Kate Jacewicz         | NA |\n",
       "| Group stage | 1 | Sun | 2019-06-09 | 13:00:00 | Australia | 1 - 2 | NA | Italy        | 15380 | Stade du Hainaut         | Melissa Borjas        | NA |\n",
       "| Group stage | 1 | Sun | NA | 15:30:00 | Brazil    | 3 - 0 | NA | Jamaica      | 17668 | Stade des Alpes          | Riem Hussein          | NA |\n",
       "\n"
      ],
      "text/plain": [
       "  round       wk day date       time     home      score pks away        \n",
       "1 Group stage 1  Fri 2019-06-07 21:00:00 France    4 - 0 NA  Korea Rep   \n",
       "2 Group stage 1  Sat 2019-06-08 15:00:00 Germany   1 - 0 NA  China PR    \n",
       "3 Group stage 1  Sat 2019-06-08 18:00:00 Spain     3 - 1 NA  South Africa\n",
       "4 Group stage 1  Sat 2019-06-08 21:00:00 Norway    3 - 0 NA  Nigeria     \n",
       "5 Group stage 1  Sun 2019-06-09 13:00:00 Australia 1 - 2 NA  Italy       \n",
       "6 Group stage 1  Sun <NA>       15:30:00 Brazil    3 - 0 NA  Jamaica     \n",
       "  attendance venue                    referee               notes\n",
       "1 45261      Parc des Princes         Claudia Umpierrez     NA   \n",
       "2 15283      Roazhon Park             Marie-Soleil Beaudoin NA   \n",
       "3 12044      Stade Oceane             Maria Carvajal        NA   \n",
       "4 11058      Stade Auguste-Delaune II Kate Jacewicz         NA   \n",
       "5 15380      Stade du Hainaut         Melissa Borjas        NA   \n",
       "6 17668      Stade des Alpes          Riem Hussein          NA   "
      ]
     },
     "metadata": {},
     "output_type": "display_data"
    },
    {
     "data": {
      "text/html": [
       "<table>\n",
       "<caption>A tibble: 6 x 13</caption>\n",
       "<thead>\n",
       "\t<tr><th scope=col>round</th><th scope=col>wk</th><th scope=col>day</th><th scope=col>date</th><th scope=col>time</th><th scope=col>home</th><th scope=col>score</th><th scope=col>pks</th><th scope=col>away</th><th scope=col>attendance</th><th scope=col>venue</th><th scope=col>referee</th><th scope=col>notes</th></tr>\n",
       "\t<tr><th scope=col>&lt;fct&gt;</th><th scope=col>&lt;chr&gt;</th><th scope=col>&lt;chr&gt;</th><th scope=col>&lt;date&gt;</th><th scope=col>&lt;time&gt;</th><th scope=col>&lt;chr&gt;</th><th scope=col>&lt;chr&gt;</th><th scope=col>&lt;chr&gt;</th><th scope=col>&lt;chr&gt;</th><th scope=col>&lt;dbl&gt;</th><th scope=col>&lt;fct&gt;</th><th scope=col>&lt;chr&gt;</th><th scope=col>&lt;chr&gt;</th></tr>\n",
       "</thead>\n",
       "<tbody>\n",
       "\t<tr><td>Quarterfinals  </td><td>QRTF</td><td>Sat</td><td>2019-06-29</td><td>15:00:00</td><td>Italy      </td><td>0 - 2</td><td>NA</td><td>Netherlands</td><td> 22600</td><td>Stade du Hainaut</td><td>Claudia Umpierrez     </td><td>NA                 </td></tr>\n",
       "\t<tr><td>Quarterfinals  </td><td>QRTF</td><td>Sat</td><td>2019-06-29</td><td>18:30:00</td><td>Germany    </td><td>1 - 2</td><td>NA</td><td>Sweden     </td><td> 25301</td><td>Roazhon Park    </td><td>Stephanie Frappart    </td><td>NA                 </td></tr>\n",
       "\t<tr><td>Semifinals     </td><td>SMIF</td><td>Tue</td><td>2019-07-02</td><td>21:00:00</td><td>England    </td><td>1 - 2</td><td>NA</td><td>USA        </td><td> 53512</td><td>NA              </td><td>Edina Alves Batista   </td><td>NA                 </td></tr>\n",
       "\t<tr><td>Semifinals     </td><td>SMIF</td><td>Wed</td><td>2019-07-03</td><td>21:00:00</td><td>Netherlands</td><td>1 - 0</td><td>NA</td><td>Sweden     </td><td> 48452</td><td>Groupama Stadium</td><td>Marie-Soleil Beaudoin </td><td>Required Extra Time</td></tr>\n",
       "\t<tr><td>3rd-place match</td><td>3rd </td><td>Sat</td><td>2019-07-06</td><td>17:00:00</td><td>England    </td><td>1 - 2</td><td>NA</td><td>Sweden     </td><td> 20316</td><td>Stade de Nice   </td><td>Anastasia Pustovoitova</td><td>NA                 </td></tr>\n",
       "\t<tr><td>Final          </td><td>FIN </td><td>Sun</td><td>2019-07-07</td><td>17:00:00</td><td>USA        </td><td>2 - 0</td><td>NA</td><td>Netherlands</td><td>579000</td><td>Groupama Stadium</td><td>Stephanie Frappart    </td><td>NA                 </td></tr>\n",
       "</tbody>\n",
       "</table>\n"
      ],
      "text/latex": [
       "A tibble: 6 x 13\n",
       "\\begin{tabular}{r|lllllllllllll}\n",
       " round & wk & day & date & time & home & score & pks & away & attendance & venue & referee & notes\\\\\n",
       " <fct> & <chr> & <chr> & <date> & <time> & <chr> & <chr> & <chr> & <chr> & <dbl> & <fct> & <chr> & <chr>\\\\\n",
       "\\hline\n",
       "\t Quarterfinals   & QRTF & Sat & 2019-06-29 & 15:00:00 & Italy       & 0 - 2 & NA & Netherlands &  22600 & Stade du Hainaut & Claudia Umpierrez      & NA                 \\\\\n",
       "\t Quarterfinals   & QRTF & Sat & 2019-06-29 & 18:30:00 & Germany     & 1 - 2 & NA & Sweden      &  25301 & Roazhon Park     & Stephanie Frappart     & NA                 \\\\\n",
       "\t Semifinals      & SMIF & Tue & 2019-07-02 & 21:00:00 & England     & 1 - 2 & NA & USA         &  53512 & NA               & Edina Alves Batista    & NA                 \\\\\n",
       "\t Semifinals      & SMIF & Wed & 2019-07-03 & 21:00:00 & Netherlands & 1 - 0 & NA & Sweden      &  48452 & Groupama Stadium & Marie-Soleil Beaudoin  & Required Extra Time\\\\\n",
       "\t 3rd-place match & 3rd  & Sat & 2019-07-06 & 17:00:00 & England     & 1 - 2 & NA & Sweden      &  20316 & Stade de Nice    & Anastasia Pustovoitova & NA                 \\\\\n",
       "\t Final           & FIN  & Sun & 2019-07-07 & 17:00:00 & USA         & 2 - 0 & NA & Netherlands & 579000 & Groupama Stadium & Stephanie Frappart     & NA                 \\\\\n",
       "\\end{tabular}\n"
      ],
      "text/markdown": [
       "\n",
       "A tibble: 6 x 13\n",
       "\n",
       "| round &lt;fct&gt; | wk &lt;chr&gt; | day &lt;chr&gt; | date &lt;date&gt; | time &lt;time&gt; | home &lt;chr&gt; | score &lt;chr&gt; | pks &lt;chr&gt; | away &lt;chr&gt; | attendance &lt;dbl&gt; | venue &lt;fct&gt; | referee &lt;chr&gt; | notes &lt;chr&gt; |\n",
       "|---|---|---|---|---|---|---|---|---|---|---|---|---|\n",
       "| Quarterfinals   | QRTF | Sat | 2019-06-29 | 15:00:00 | Italy       | 0 - 2 | NA | Netherlands |  22600 | Stade du Hainaut | Claudia Umpierrez      | NA                  |\n",
       "| Quarterfinals   | QRTF | Sat | 2019-06-29 | 18:30:00 | Germany     | 1 - 2 | NA | Sweden      |  25301 | Roazhon Park     | Stephanie Frappart     | NA                  |\n",
       "| Semifinals      | SMIF | Tue | 2019-07-02 | 21:00:00 | England     | 1 - 2 | NA | USA         |  53512 | NA               | Edina Alves Batista    | NA                  |\n",
       "| Semifinals      | SMIF | Wed | 2019-07-03 | 21:00:00 | Netherlands | 1 - 0 | NA | Sweden      |  48452 | Groupama Stadium | Marie-Soleil Beaudoin  | Required Extra Time |\n",
       "| 3rd-place match | 3rd  | Sat | 2019-07-06 | 17:00:00 | England     | 1 - 2 | NA | Sweden      |  20316 | Stade de Nice    | Anastasia Pustovoitova | NA                  |\n",
       "| Final           | FIN  | Sun | 2019-07-07 | 17:00:00 | USA         | 2 - 0 | NA | Netherlands | 579000 | Groupama Stadium | Stephanie Frappart     | NA                  |\n",
       "\n"
      ],
      "text/plain": [
       "  round           wk   day date       time     home        score pks\n",
       "1 Quarterfinals   QRTF Sat 2019-06-29 15:00:00 Italy       0 - 2 NA \n",
       "2 Quarterfinals   QRTF Sat 2019-06-29 18:30:00 Germany     1 - 2 NA \n",
       "3 Semifinals      SMIF Tue 2019-07-02 21:00:00 England     1 - 2 NA \n",
       "4 Semifinals      SMIF Wed 2019-07-03 21:00:00 Netherlands 1 - 0 NA \n",
       "5 3rd-place match 3rd  Sat 2019-07-06 17:00:00 England     1 - 2 NA \n",
       "6 Final           FIN  Sun 2019-07-07 17:00:00 USA         2 - 0 NA \n",
       "  away        attendance venue            referee               \n",
       "1 Netherlands  22600     Stade du Hainaut Claudia Umpierrez     \n",
       "2 Sweden       25301     Roazhon Park     Stephanie Frappart    \n",
       "3 USA          53512     NA               Edina Alves Batista   \n",
       "4 Sweden       48452     Groupama Stadium Marie-Soleil Beaudoin \n",
       "5 Sweden       20316     Stade de Nice    Anastasia Pustovoitova\n",
       "6 Netherlands 579000     Groupama Stadium Stephanie Frappart    \n",
       "  notes              \n",
       "1 NA                 \n",
       "2 NA                 \n",
       "3 NA                 \n",
       "4 Required Extra Time\n",
       "5 NA                 \n",
       "6 NA                 "
      ]
     },
     "metadata": {},
     "output_type": "display_data"
    }
   ],
   "source": [
    "# load the package\n",
    "library(tidyr)\n",
    "\n",
    "# Remove rows of NA\n",
    "wwc_1  <- wwc_raw  %>% \n",
    " rename_all(tolower)  %>% \n",
    " filter(!is.na(round))\n",
    "\n",
    " "
   ]
  },
  {
   "cell_type": "markdown",
   "metadata": {
    "dc": {
     "key": "26"
    },
    "deletable": false,
    "editable": false,
    "run_control": {
     "frozen": true
    },
    "tags": [
     "context"
    ]
   },
   "source": [
    "## 4. Replacing NA\n",
    "<p>Excellent! We now have 52 rows. Each row corresponds to a match in the tournament. But, it looks like there are a couple <code>NA</code> still lurking about in <code>date</code> and <code>venue</code>. Using <code>colSums()</code> and <code>is.na()</code> we can check to see how many <code>NA</code> are in each column.</p>\n",
    "<p><img src=\"https://assets.datacamp.com/production/project_758/img/colSums_output.png\" alt=\"colSums output\"></p>\n",
    "<p><br></p>\n",
    "<p>We only have the one <code>NA</code> in <code>date</code> and one <code>NA</code> in <code>venue</code>. We would expect the <code>notes</code> column to have several <code>NA</code>, but what about <code>pks</code>? <code>pks</code> is the column for penalty kicks. It has 51 <code>NA</code>. A good guess would be that only one match ended in penalty kicks, and according to Bob, that is correct. We'll deal with the double data in <code>score</code> and <code>pks</code> shortly. Now we are going to clean <code>date</code> and <code>venue</code>.</p>"
   ]
  },
  {
   "cell_type": "code",
   "execution_count": 88,
   "metadata": {
    "dc": {
     "key": "26"
    },
    "tags": [
     "sample_code"
    ]
   },
   "outputs": [
    {
     "data": {
      "text/html": [
       "<table>\n",
       "<caption>A tibble: 1 x 13</caption>\n",
       "<thead>\n",
       "\t<tr><th scope=col>round</th><th scope=col>wk</th><th scope=col>day</th><th scope=col>date</th><th scope=col>time</th><th scope=col>home</th><th scope=col>score</th><th scope=col>pks</th><th scope=col>away</th><th scope=col>attendance</th><th scope=col>venue</th><th scope=col>referee</th><th scope=col>notes</th></tr>\n",
       "\t<tr><th scope=col>&lt;fct&gt;</th><th scope=col>&lt;chr&gt;</th><th scope=col>&lt;chr&gt;</th><th scope=col>&lt;date&gt;</th><th scope=col>&lt;time&gt;</th><th scope=col>&lt;chr&gt;</th><th scope=col>&lt;chr&gt;</th><th scope=col>&lt;chr&gt;</th><th scope=col>&lt;chr&gt;</th><th scope=col>&lt;dbl&gt;</th><th scope=col>&lt;fct&gt;</th><th scope=col>&lt;chr&gt;</th><th scope=col>&lt;chr&gt;</th></tr>\n",
       "</thead>\n",
       "<tbody>\n",
       "\t<tr><td>Group stage</td><td>1</td><td>Sun</td><td>NA</td><td>15:30:00</td><td>Brazil</td><td>3 - 0</td><td>NA</td><td>Jamaica</td><td>17668</td><td>Stade des Alpes</td><td>Riem Hussein</td><td>NA</td></tr>\n",
       "</tbody>\n",
       "</table>\n"
      ],
      "text/latex": [
       "A tibble: 1 x 13\n",
       "\\begin{tabular}{r|lllllllllllll}\n",
       " round & wk & day & date & time & home & score & pks & away & attendance & venue & referee & notes\\\\\n",
       " <fct> & <chr> & <chr> & <date> & <time> & <chr> & <chr> & <chr> & <chr> & <dbl> & <fct> & <chr> & <chr>\\\\\n",
       "\\hline\n",
       "\t Group stage & 1 & Sun & NA & 15:30:00 & Brazil & 3 - 0 & NA & Jamaica & 17668 & Stade des Alpes & Riem Hussein & NA\\\\\n",
       "\\end{tabular}\n"
      ],
      "text/markdown": [
       "\n",
       "A tibble: 1 x 13\n",
       "\n",
       "| round &lt;fct&gt; | wk &lt;chr&gt; | day &lt;chr&gt; | date &lt;date&gt; | time &lt;time&gt; | home &lt;chr&gt; | score &lt;chr&gt; | pks &lt;chr&gt; | away &lt;chr&gt; | attendance &lt;dbl&gt; | venue &lt;fct&gt; | referee &lt;chr&gt; | notes &lt;chr&gt; |\n",
       "|---|---|---|---|---|---|---|---|---|---|---|---|---|\n",
       "| Group stage | 1 | Sun | NA | 15:30:00 | Brazil | 3 - 0 | NA | Jamaica | 17668 | Stade des Alpes | Riem Hussein | NA |\n",
       "\n"
      ],
      "text/plain": [
       "  round       wk day date time     home   score pks away    attendance\n",
       "1 Group stage 1  Sun <NA> 15:30:00 Brazil 3 - 0 NA  Jamaica 17668     \n",
       "  venue           referee      notes\n",
       "1 Stade des Alpes Riem Hussein NA   "
      ]
     },
     "metadata": {},
     "output_type": "display_data"
    },
    {
     "data": {
      "text/html": [
       "<table>\n",
       "<caption>A tibble: 1 x 13</caption>\n",
       "<thead>\n",
       "\t<tr><th scope=col>round</th><th scope=col>wk</th><th scope=col>day</th><th scope=col>date</th><th scope=col>time</th><th scope=col>home</th><th scope=col>score</th><th scope=col>pks</th><th scope=col>away</th><th scope=col>attendance</th><th scope=col>venue</th><th scope=col>referee</th><th scope=col>notes</th></tr>\n",
       "\t<tr><th scope=col>&lt;fct&gt;</th><th scope=col>&lt;chr&gt;</th><th scope=col>&lt;chr&gt;</th><th scope=col>&lt;date&gt;</th><th scope=col>&lt;time&gt;</th><th scope=col>&lt;chr&gt;</th><th scope=col>&lt;chr&gt;</th><th scope=col>&lt;chr&gt;</th><th scope=col>&lt;chr&gt;</th><th scope=col>&lt;dbl&gt;</th><th scope=col>&lt;fct&gt;</th><th scope=col>&lt;chr&gt;</th><th scope=col>&lt;chr&gt;</th></tr>\n",
       "</thead>\n",
       "<tbody>\n",
       "\t<tr><td>Semifinals</td><td>SMIF</td><td>Tue</td><td>2019-07-02</td><td>21:00:00</td><td>England</td><td>1 - 2</td><td>NA</td><td>USA</td><td>53512</td><td>NA</td><td>Edina Alves Batista</td><td>NA</td></tr>\n",
       "</tbody>\n",
       "</table>\n"
      ],
      "text/latex": [
       "A tibble: 1 x 13\n",
       "\\begin{tabular}{r|lllllllllllll}\n",
       " round & wk & day & date & time & home & score & pks & away & attendance & venue & referee & notes\\\\\n",
       " <fct> & <chr> & <chr> & <date> & <time> & <chr> & <chr> & <chr> & <chr> & <dbl> & <fct> & <chr> & <chr>\\\\\n",
       "\\hline\n",
       "\t Semifinals & SMIF & Tue & 2019-07-02 & 21:00:00 & England & 1 - 2 & NA & USA & 53512 & NA & Edina Alves Batista & NA\\\\\n",
       "\\end{tabular}\n"
      ],
      "text/markdown": [
       "\n",
       "A tibble: 1 x 13\n",
       "\n",
       "| round &lt;fct&gt; | wk &lt;chr&gt; | day &lt;chr&gt; | date &lt;date&gt; | time &lt;time&gt; | home &lt;chr&gt; | score &lt;chr&gt; | pks &lt;chr&gt; | away &lt;chr&gt; | attendance &lt;dbl&gt; | venue &lt;fct&gt; | referee &lt;chr&gt; | notes &lt;chr&gt; |\n",
       "|---|---|---|---|---|---|---|---|---|---|---|---|---|\n",
       "| Semifinals | SMIF | Tue | 2019-07-02 | 21:00:00 | England | 1 - 2 | NA | USA | 53512 | NA | Edina Alves Batista | NA |\n",
       "\n"
      ],
      "text/plain": [
       "  round      wk   day date       time     home    score pks away attendance\n",
       "1 Semifinals SMIF Tue 2019-07-02 21:00:00 England 1 - 2 NA  USA  53512     \n",
       "  venue referee             notes\n",
       "1 NA    Edina Alves Batista NA   "
      ]
     },
     "metadata": {},
     "output_type": "display_data"
    }
   ],
   "source": [
    "# Housekeeping\n",
    "wwc_2  <- wwc_1\n",
    "\n",
    "# Find, view, and replace NA in column date\n",
    "index_date  <- which(is.na(wwc_2$date))\n",
    "wwc_2[index_date, ]\n",
    "wwc_2$date[index_date]  <- \"2019-06-09\"\n",
    "\n",
    "# Find, view, and replace NA in column venue\n",
    "index_venue  <- which(is.na(wwc_2$venue))\n",
    "wwc_2[index_venue,]\n",
    "wwc_2$venue[index_venue]<- \"Groupama Stadium\""
   ]
  },
  {
   "cell_type": "markdown",
   "metadata": {
    "dc": {
     "key": "33"
    },
    "deletable": false,
    "editable": false,
    "run_control": {
     "frozen": true
    },
    "tags": [
     "context"
    ]
   },
   "source": [
    "## 5. separate() and replace_na()\n",
    "<p>All right! The data are looking good, but it is a good idea to get the two data points in <code>score</code> and two data points in <code>pks</code> into their own columns for future data sleuthing.</p>\n",
    "<p>For this task we're going to employ the functionality of <code>separate()</code>, <code>mutate()</code>, and <code>replace_na()</code>. Look back at the directions in Task 4 to see an example of how <code>mutate()</code> and <code>replace_na()</code> are used together. We'll use the pipe operator, <code>%</code>, to pipe the functions together for readability. </p>"
   ]
  },
  {
   "cell_type": "code",
   "execution_count": 90,
   "metadata": {
    "dc": {
     "key": "33"
    },
    "tags": [
     "sample_code"
    ]
   },
   "outputs": [],
   "source": [
    "# Separate columns and replace NA (you've got this!)\n",
    "wwc_3  <- wwc_2  %>%  \n",
    "separate(score, c(\"home_score\",\"away_score\"), sep = \"-\", convert = TRUE) %>%\n",
    "separate(pks, c(\"home_pks\",\"away_pks\"), sep = \"-\", convert = TRUE) %>%  \n",
    "mutate(home_pks = replace_na(home_pks, 0),\n",
    "         away_pks = replace_na(away_pks, 0))"
   ]
  },
  {
   "cell_type": "markdown",
   "metadata": {
    "dc": {
     "key": "40"
    },
    "deletable": false,
    "editable": false,
    "run_control": {
     "frozen": true
    },
    "tags": [
     "context"
    ]
   },
   "source": [
    "## 6. Plotting for outliers\n",
    "<p>We corrected the <code>NA</code> in the <code>date</code> and <code>venue</code> columns, and separated the <code>score</code> and <code>pks</code> columns to have one score per column. </p>\n",
    "<p>Now we can take a look at <code>attendance</code> and find the information the boss wants. Let's plot the data to see if there are any outliers. </p>"
   ]
  },
  {
   "cell_type": "code",
   "execution_count": 92,
   "metadata": {
    "dc": {
     "key": "40"
    },
    "tags": [
     "sample_code"
    ]
   },
   "outputs": [
    {
     "data": {
      "image/png": "[encoded data removed]",
      "text/plain": [
       "plot without title"
      ]
     },
     "metadata": {},
     "output_type": "display_data"
    }
   ],
   "source": [
    "\n",
    ") "
   ]
  },
  {
   "cell_type": "markdown",
   "metadata": {
    "dc": {
     "key": "47"
    },
    "deletable": false,
    "editable": false,
    "run_control": {
     "frozen": true
    },
    "tags": [
     "context"
    ]
   },
   "source": [
    "## 7. What to do with the outlier?\n",
    "<p>Whoa! What’s up with the attendance for Groupama Stadium? One data point is almost 600,000 (6e+05*) while all the other data points are less than 100,000. That does not seem right.  </p>\n",
    "<p>After chatting with Bob about the outlier and checking the match report, we learned that Bob mistakenly added an extra 0. We can fix that! Let's summarize the attendance by the venue, fix the outlier, and create a new summary table with the updated data.</p>\n",
    "<p><code>*</code> For fun, add <code>scale_y_continuous(labels = scales::comma)</code> as the last line of the call to <code>ggplot()</code> in Task 6 and see how the y-axis value labels change.</p>"
   ]
  },
  {
   "cell_type": "code",
   "execution_count": 94,
   "metadata": {
    "dc": {
     "key": "47"
    },
    "tags": [
     "sample_code"
    ]
   },
   "outputs": [],
   "source": [
    "# Summarize the number of games, and min and max attendance for each venue\n",
    "attendance_outlier  <- wwc_3  %>% \n",
    " group_by(venue)  %>% \n",
    " summarize(nb_of_games = n(), \n",
    "           min_attendance = min(attendance), \n",
    "           max_attendance = max(attendance))\n",
    "\n",
    "# Correct the outlier\n",
    "wwc_4  <- wwc_3  %>% \n",
    "  mutate(attendance = replace(attendance, which(attendance == 579000), 57900))\n",
    "\n",
    "# Print an updated summary table \n",
    "wwc_venue_summary <- wwc_4  %>% \n",
    "  group_by(venue)  %>% \n",
    " summarize(nb_of_games = n(), \n",
    "           min_attendance = min(attendance), \n",
    "           max_attendance = max(attendance))"
   ]
  },
  {
   "cell_type": "markdown",
   "metadata": {
    "dc": {
     "key": "54"
    },
    "deletable": false,
    "editable": false,
    "run_control": {
     "frozen": true
    },
    "tags": [
     "context"
    ]
   },
   "source": [
    "## 8. A pretty boxplot\n",
    "<p>Let's make a boxplot of the attendance by venue again. The first outlier was extreme and might have masked other problems. </p>\n",
    "<p>This time we will clean up the plot by setting the theme, adding a title, a subtitle, x and y labels, and we will flip the axes to make it easier to read the venue names. We are also going to angle the x-axis text so the numbers will fit within the plot space. And to be fancy, we are going to reorder <code>venue</code> by  the attendance within the plot aesthetics so the venues display in descending order of mean attendance.  </p>"
   ]
  },
  {
   "cell_type": "code",
   "execution_count": 96,
   "metadata": {
    "dc": {
     "key": "54"
    },
    "tags": [
     "sample_code"
    ]
   },
   "outputs": [
    {
     "ename": "ERROR",
     "evalue": "Error in list2(..., title = title, subtitle = subtitle, caption = caption, : object '....' not found\n",
     "output_type": "error",
     "traceback": [
      "Error in list2(..., title = title, subtitle = subtitle, caption = caption, : object '....' not found\nTraceback:\n",
      "1. labs(.... = ...., .... = ...., x = \"Stadium\", y = \"Attendance\")",
      "2. list2(..., title = title, subtitle = subtitle, caption = caption, \n .     tag = tag)"
     ]
    }
   ],
   "source": [
    "# Housekeeping for plot size\n",
    "options(repr.plot.width=6, repr.plot.height=4)\n",
    "\n",
    "# Prettier boxplot of attendance data by venue\n",
    "wwc_4  %>% \n",
    "  ggplot(aes(x = forcats::fct_reorder(venue, attendance), y = ....)) +\n",
    "    # .... YOUR CODE FOR TASK 8 ....\n",
    "    # .... YOUR CODE FOR TASK 8 ....\n",
    "    coord_flip() +\n",
    "    theme(axis.text.x = element_text(angle = 45, , hjust = 1)) +\n",
    "    labs(.... = ....,\n",
    "         .... = ....,\n",
    "         x = \"Stadium\", \n",
    "         y = \"Attendance\")"
   ]
  },
  {
   "cell_type": "markdown",
   "metadata": {
    "dc": {
     "key": "61"
    },
    "deletable": false,
    "editable": false,
    "run_control": {
     "frozen": true
    },
    "tags": [
     "context"
    ]
   },
   "source": [
    "## 9. A pretty line plot\n",
    "<p>Looks good!</p>\n",
    "<p>That outlier for Stade de Nice looks a little suspect, but we checked the match reports, and the attendance numbers are correct. The suspect match was <a href=\"https://www.fifa.com/womensworldcup/matches/match/300438220/#match-liveblog\">France vs. Norway</a> - the home nation favorite drew a large crowd wherever they played!</p>\n",
    "<p>Now that the data are clean, let's plot the attendance at each stadium over time so we can tell the boss which stadium had the highest attendance during the tournament. </p>"
   ]
  },
  {
   "cell_type": "code",
   "execution_count": null,
   "metadata": {
    "dc": {
     "key": "61"
    },
    "tags": [
     "sample_code"
    ]
   },
   "outputs": [],
   "source": [
    "# Housekeeping for plot size\n",
    "options(repr.plot.width=6, repr.plot.height=4)\n",
    "\n",
    "# Line plot of attendance over time\n",
    "wwc_4  %>% \n",
    "  ggplot(aes(...., ...., color = ....)) +\n",
    "   # .... YOUR CODE FOR TASK 8 ....\n",
    "  theme_minimal() +\n",
    "  theme(legend.position = \"bottom\",\n",
    "       legend.text = element_text(size = 8)) +\n",
    "  guides(col = guide_legend(nrow = 3)) +\n",
    "  labs(title = \"Stadium attendance during the tournament\",\n",
    "       subtitle = \"2019 FIFA Women's World Cup\",\n",
    "       x = \"Date\", \n",
    "       y = \"Attendance\",\n",
    "      color = \"\") "
   ]
  },
  {
   "cell_type": "markdown",
   "metadata": {
    "dc": {
     "key": "68"
    },
    "deletable": false,
    "editable": false,
    "run_control": {
     "frozen": true
    },
    "tags": [
     "context"
    ]
   },
   "source": [
    "## 10. Wrap up\n",
    "<p>Congratulations! You've made it to the end of the project.</p>\n",
    "<p>Great job! We have a couple of beautiful plots to give our boss. With a little more code, we can answer her questions: </p>\n",
    "<ol>\n",
    "<li>What match had the highest attendance?</li>\n",
    "<li>In what stadium was the match with the highest attendance played?</li>\n",
    "</ol>"
   ]
  },
  {
   "cell_type": "code",
   "execution_count": null,
   "metadata": {
    "collapsed": true,
    "dc": {
     "key": "68"
    },
    "tags": [
     "sample_code"
    ]
   },
   "outputs": [],
   "source": [
    "\n",
    "\n",
    "\n",
    "# What match had the higest attendance?\n",
    "# A: wk = SMIF, England vs. USA\n",
    "# B: wk = FIN, USA vs. Netherlands\n",
    "# C: wk = SMIF, Netherlands vs. Sweden\n",
    "\n",
    "ans_1  <- \"....\"\n",
    "\n",
    "# In what stadium was the match with the highest attendance played?\n",
    "# A: Groupama Stadium\n",
    "# B: Parc des Princes\n",
    "# C: Stade des Alpes\n",
    "\n",
    "ans_2  <- \"....\""
   ]
  }
 ],
 "metadata": {
  "kernelspec": {
   "display_name": "R",
   "language": "R",
   "name": "ir"
  },
  "language_info": {
   "codemirror_mode": "r",
   "file_extension": ".r",
   "mimetype": "text/x-r-source",
   "name": "R",
   "pygments_lexer": "r",
   "version": "3.6.1"
  }
 },
 "nbformat": 4,
 "nbformat_minor": 2
}
